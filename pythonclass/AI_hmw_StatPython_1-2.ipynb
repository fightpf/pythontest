{
 "cells": [
  {
   "cell_type": "markdown",
   "metadata": {},
   "source": [
    "## 配合課程影片 hmwu_StatR-01-2\n",
    "### Exercise 1-2"
   ]
  },
  {
   "cell_type": "code",
   "execution_count": 1,
   "metadata": {},
   "outputs": [],
   "source": [
    "import pandas as pd\n",
    "import numpy as np\n",
    "import scipy as sp\n",
    "import random"
   ]
  },
  {
   "cell_type": "code",
   "execution_count": 2,
   "metadata": {},
   "outputs": [],
   "source": [
    "n = 6 \n",
    "p = 10 \n",
    "np.random.seed(123456)"
   ]
  },
  {
   "cell_type": "code",
   "execution_count": 3,
   "metadata": {},
   "outputs": [
    {
     "data": {
      "text/plain": [
       "array([[ 0.4691123 , -0.28286334, -1.5090585 , -1.13563237,  1.21211203,\n",
       "        -0.17321465,  0.11920871, -1.04423597, -0.86184896, -2.10456922],\n",
       "       [-0.49492927,  1.07180381,  0.72155516, -0.70677113, -1.03957499,\n",
       "         0.27185989, -0.42497233,  0.56702035,  0.27623202, -1.08740069],\n",
       "       [-0.67368971,  0.11364841, -1.47842655,  0.52498767,  0.40470522,\n",
       "         0.57704599, -1.71500202, -1.03926848, -0.37064686, -1.15789225],\n",
       "       [-1.34431181,  0.84488514,  1.07576978, -0.10904998,  1.64356307,\n",
       "        -1.46938796,  0.35702056, -0.6746001 , -1.77690372, -0.96891381],\n",
       "       [-1.29452359,  0.41373811,  0.27666171, -0.47203451, -0.01395975,\n",
       "        -0.36254299, -0.00615357, -0.92306065,  0.8957173 ,  0.80524403],\n",
       "       [-1.20641178,  2.56564595,  1.43125599,  1.34030885, -1.1702988 ,\n",
       "        -0.22616928,  0.41083451,  0.81385029,  0.13200317, -0.82731694],\n",
       "       [-0.07646702, -1.18767758,  1.1301273 , -1.43673732, -1.41368087,\n",
       "         1.60792047,  1.02418016,  0.56960526,  0.8759064 , -2.21137223],\n",
       "       [ 0.97446607, -2.00674721, -0.41000057, -0.07863759,  0.54595192,\n",
       "        -1.21921682, -1.22682528,  0.76980364, -1.28124731, -0.72770704],\n",
       "       [-0.12130623, -0.09788267,  0.69577465,  0.34173436,  0.95972559,\n",
       "        -1.1103361 , -0.61997592,  0.14974832, -0.73233937,  0.68773839],\n",
       "       [ 0.17644434,  0.40330952, -0.15495077,  0.30162445, -2.17986061,\n",
       "        -1.36984936, -0.95420784,  1.46269605, -1.74316091, -0.82659092]])"
      ]
     },
     "execution_count": 3,
     "metadata": {},
     "output_type": "execute_result"
    }
   ],
   "source": [
    "# 請生成 p*p 共變異數矩陣 sigma，每個元素值來自於常態分佈的隨機抽樣：\n",
    "sigma = np.random.normal(0, 1, (p, p))\n",
    "sigma"
   ]
  },
  {
   "cell_type": "code",
   "execution_count": 4,
   "metadata": {},
   "outputs": [
    {
     "name": "stdout",
     "output_type": "stream",
     "text": [
      "(10, 10)\n",
      "[ 6.95855325 14.41909224 10.3193608   6.47409233 14.85423432 10.05981556\n",
      "  7.38125867  7.64045047 11.01732561 15.89999288]\n"
     ]
    }
   ],
   "source": [
    "sigma_1 = np.dot(sigma.transpose(), sigma)\n",
    "np.fill_diagonal(sigma_1, sigma_1.diagonal()+0.1)\n",
    "\n",
    "#diagonal = 0.1 * np.eye(len(sigma_1))\n",
    "#sigma_2 = sigma_1 + diagonal\n",
    "\n",
    "print(sigma_1.shape)\n",
    "#print(diagonal.shape)\n",
    "print(sigma_1.diagonal())"
   ]
  },
  {
   "cell_type": "code",
   "execution_count": 5,
   "metadata": {},
   "outputs": [
    {
     "name": "stdout",
     "output_type": "stream",
     "text": [
      "(6, 10)\n"
     ]
    }
   ],
   "source": [
    "# 請模擬生成維度 n 的多元常態分佈隨機樣本資料 x，共變異數矩陣令為sigma_1：\n",
    "x = np.random.multivariate_normal(mean = np.repeat(0, repeats = p), cov = sigma_1, size = (n), check_valid = \"warn\")\n",
    "\n",
    "# (6, 10)\n",
    "print(x.shape)"
   ]
  },
  {
   "cell_type": "code",
   "execution_count": 6,
   "metadata": {},
   "outputs": [
    {
     "name": "stdout",
     "output_type": "stream",
     "text": [
      "Estimating optimal shrinkage intensity Lambda_Var (variance vector) : 0.5946576527809341 \n",
      "\n",
      "Alpha for Eigenvalues**Alpha estimated or used:  1 \n",
      "\n",
      "Estimating optimal shrinkage intensity Lambda (correlation matrix) : 0.6193236525523252 \n",
      "\n"
     ]
    }
   ],
   "source": [
    "# 請估計隨機樣本資料 x 的共變異數矩陣 s1：\n",
    "#from sklearn.covariance import ShrunkCovariance\n",
    "#import covar\n",
    "import R_corpcor\n",
    "\n",
    "s1 = np.cov(x, rowvar = False)\n",
    "s2 = R_corpcor.cov_shrink(x)\n",
    "#s2 = ShrunkCovariance(shrinkage = 0.3257202).fit(x).covariance_\n",
    "#s3 = covar.cov_shrink_ss(x)[0]"
   ]
  },
  {
   "cell_type": "code",
   "execution_count": 7,
   "metadata": {},
   "outputs": [
    {
     "data": {
      "text/plain": [
       "array([[ 3.32273521, -4.19733726, -0.68288317, -4.09154954,  0.14882015,\n",
       "        -3.20072127,  1.42375464,  1.38289646, -1.81052893, -0.04543859],\n",
       "       [-4.19733726,  7.47925002, -2.22146381,  4.17131208, -3.443407  ,\n",
       "         2.80778097, -5.20344555, -0.86826328, -2.2567636 , -7.832705  ],\n",
       "       [-0.68288317, -2.22146381, 14.53970401, -2.92041095, -1.07876523,\n",
       "         2.3495807 , 12.3233969 ,  5.09447969,  9.62400247,  9.01442245],\n",
       "       [-4.09154954,  4.17131208, -2.92041095, 16.06865565, 10.01317014,\n",
       "         5.20238492, -8.41060523, -6.10189864,  1.17641304, 10.14825546],\n",
       "       [ 0.14882015, -3.443407  , -1.07876523, 10.01317014, 14.98453151,\n",
       "         1.97941578, -2.43580921, -6.7697619 ,  5.11076866, 19.99868289],\n",
       "       [-3.20072127,  2.80778097,  2.3495807 ,  5.20238492,  1.97941578,\n",
       "         3.86280624,  0.17329074, -1.79450589,  4.05371295,  4.70620927],\n",
       "       [ 1.42375464, -5.20344555, 12.3233969 , -8.41060523, -2.43580921,\n",
       "         0.17329074, 14.22362094,  4.73356042,  9.35574011,  7.64937296],\n",
       "       [ 1.38289646, -0.86826328,  5.09447969, -6.10189864, -6.7697619 ,\n",
       "        -1.79450589,  4.73356042,  6.03198254, -1.22051756, -6.57566821],\n",
       "       [-1.81052893, -2.2567636 ,  9.62400247,  1.17641304,  5.11076866,\n",
       "         4.05371295,  9.35574011, -1.22051756, 12.17062169, 16.12934367],\n",
       "       [-0.04543859, -7.832705  ,  9.01442245, 10.14825546, 19.99868289,\n",
       "         4.70620927,  7.64937296, -6.57566821, 16.12934367, 36.17871217]])"
      ]
     },
     "execution_count": 7,
     "metadata": {},
     "output_type": "execute_result"
    }
   ],
   "source": [
    "s1"
   ]
  },
  {
   "cell_type": "code",
   "execution_count": 8,
   "metadata": {},
   "outputs": [
    {
     "data": {
      "text/plain": [
       "array([[ 9.19461447, -3.2056981 , -0.4203952 , -2.44943725,  0.09083643,\n",
       "        -3.16407956,  0.88203344,  1.14393385, -1.17491631, -0.02269788],\n",
       "       [-3.2056981 , 10.87942594, -0.99152953,  1.81053221, -1.52384833,\n",
       "         2.01241634, -2.33720056, -0.52073618, -1.06179971, -2.83679048],\n",
       "       [-0.4203952 , -0.99152953, 13.74132693, -1.02173937, -0.38480696,\n",
       "         1.35739912,  4.46167561,  2.46279771,  3.64984858,  2.63157642],\n",
       "       [-2.44943725,  1.81053221, -1.02173937, 14.36107578,  3.47339945,\n",
       "         2.92271751, -2.96116063, -2.86854096,  0.4338565 ,  2.88095604],\n",
       "       [ 0.09083643, -1.52384833, -0.38480696,  3.47339945, 13.92163436,\n",
       "         1.13381239, -0.87437513, -3.24481001,  1.92172977,  5.78850546],\n",
       "       [-3.16407956,  2.01241634,  1.35739912,  2.92271751,  1.13381239,\n",
       "         9.41352813,  0.10074677, -1.39303488,  2.46865449,  2.20616257],\n",
       "       [ 0.88203344, -2.33720056,  4.46167561, -2.96116063, -0.87437513,\n",
       "         0.10074677, 13.61320508,  2.30279557,  3.57055581,  2.24720385],\n",
       "       [ 1.14393385, -0.52073618,  2.46279771, -2.86854096, -3.24481001,\n",
       "        -1.39303488,  2.30279557, 10.29278714, -0.62196087, -2.57939513],\n",
       "       [-1.17491631, -1.06179971,  3.64984858,  0.4338565 ,  1.92172977,\n",
       "         2.46865449,  3.57055581, -0.62196087, 12.78103755,  4.96346422],\n",
       "       [-0.02269788, -2.83679048,  2.63157642,  2.88095604,  5.78850546,\n",
       "         2.20616257,  2.24720385, -2.57939513,  4.96346422, 22.5125333 ]])"
      ]
     },
     "execution_count": 8,
     "metadata": {},
     "output_type": "execute_result"
    }
   ],
   "source": [
    "s2"
   ]
  },
  {
   "cell_type": "code",
   "execution_count": 9,
   "metadata": {},
   "outputs": [
    {
     "data": {
      "image/png": "[encoded data removed]",
      "text/plain": [
       "<Figure size 720x432 with 3 Axes>"
      ]
     },
     "metadata": {
      "needs_background": "light"
     },
     "output_type": "display_data"
    }
   ],
   "source": [
    "import matplotlib.pyplot as plt\n",
    "%matplotlib inline\n",
    "\n",
    "fig, axes = plt.subplots(1, 3, figsize = (10, 6))\n",
    "\n",
    "axes[0].imshow(sigma_1.transpose()[:, ::-1], cmap = 'YlOrRd')\n",
    "axes[1].imshow(s1.transpose()[:, ::-1], cmap = 'YlOrRd')\n",
    "axes[2].imshow(s2.transpose()[:, ::-1], cmap = 'YlOrRd')\n",
    "\n",
    "axes[0].set_title('true cov')\n",
    "axes[1].set_title('empirical cov')\n",
    "axes[2].set_title('shrinkage cov')\n",
    "\n",
    "plt.show()"
   ]
  },
  {
   "cell_type": "code",
   "execution_count": 10,
   "metadata": {},
   "outputs": [
    {
     "name": "stdout",
     "output_type": "stream",
     "text": [
      "Input Matrix is not Symmetric.\n",
      "Sigma: False\n",
      "Sigma_1: True\n",
      "s1: False\n",
      "Input Matrix is not Symmetric.\n",
      "s2: True\n"
     ]
    }
   ],
   "source": [
    "## 判定矩陣是否為正定矩陣（Postivie Definite）\n",
    "\n",
    "def is_positvie_definite(A):\n",
    "    if np.array_equal(A, A.T):\n",
    "        try:\n",
    "            np.linalg.cholesky(A)\n",
    "            return True\n",
    "        except np.linalg.LinAlgError:\n",
    "            return False\n",
    "    else:\n",
    "        print(\"Input Matrix is not Symmetric.\")\n",
    "        try:\n",
    "            np.linalg.cholesky(A)\n",
    "            return True\n",
    "        except np.linalg.LinAlgError:\n",
    "            return False\n",
    "    \n",
    "print(\"Sigma:\", is_positvie_definite(sigma))\n",
    "print(\"Sigma_1:\", is_positvie_definite(sigma_1))\n",
    "print(\"s1:\", is_positvie_definite(s1))\n",
    "print(\"s2:\", is_positvie_definite(s2))"
   ]
  },
  {
   "cell_type": "code",
   "execution_count": 11,
   "metadata": {},
   "outputs": [
    {
     "name": "stdout",
     "output_type": "stream",
     "text": [
      "3741.99814158775\n",
      "981.8209772947162\n"
     ]
    }
   ],
   "source": [
    "## Sum of Square of Difference (ssd)\n",
    "\n",
    "ssd1 = ((sigma_1-s1)**2).sum()\n",
    "ssd2 = ((sigma_1-s2)**2).sum()\n",
    "\n",
    "print(ssd1)\n",
    "print(ssd2)"
   ]
  },
  {
   "cell_type": "code",
   "execution_count": 12,
   "metadata": {},
   "outputs": [
    {
     "data": {
      "text/html": [
       "<div>\n",
       "<style scoped>\n",
       "    .dataframe tbody tr th:only-of-type {\n",
       "        vertical-align: middle;\n",
       "    }\n",
       "\n",
       "    .dataframe tbody tr th {\n",
       "        vertical-align: top;\n",
       "    }\n",
       "\n",
       "    .dataframe thead th {\n",
       "        text-align: right;\n",
       "    }\n",
       "</style>\n",
       "<table border=\"1\" class=\"dataframe\">\n",
       "  <thead>\n",
       "    <tr style=\"text-align: right;\">\n",
       "      <th></th>\n",
       "      <th>Rank</th>\n",
       "      <th>Condition</th>\n",
       "    </tr>\n",
       "  </thead>\n",
       "  <tbody>\n",
       "    <tr>\n",
       "      <th>True</th>\n",
       "      <td>10</td>\n",
       "      <td>262.559</td>\n",
       "    </tr>\n",
       "    <tr>\n",
       "      <th>Empirical</th>\n",
       "      <td>5</td>\n",
       "      <td>76.2745</td>\n",
       "    </tr>\n",
       "    <tr>\n",
       "      <th>Shrinkage</th>\n",
       "      <td>10</td>\n",
       "      <td>5.37551</td>\n",
       "    </tr>\n",
       "  </tbody>\n",
       "</table>\n",
       "</div>"
      ],
      "text/plain": [
       "          Rank Condition\n",
       "True        10   262.559\n",
       "Empirical    5   76.2745\n",
       "Shrinkage   10   5.37551"
      ]
     },
     "execution_count": 12,
     "metadata": {},
     "output_type": "execute_result"
    }
   ],
   "source": [
    "# 請把 data.frame rc 的列名（rownames）改為true, empirical, shrinkage：\n",
    "\n",
    "def rank_condition(A, eps = 1e-12):\n",
    "    u, s, vh = np.linalg.svd(A)\n",
    "    \n",
    "    svd = np.array([x for x in s if abs(x) > eps])\n",
    "    rank = len(svd)\n",
    "    condition = svd.max()/svd.min()\n",
    "    \n",
    "    return rank, condition, svd\n",
    "\n",
    "rc = pd.DataFrame(columns = ['Rank','Condition'], index = ['True', 'Empirical', 'Shrinkage'])\n",
    "rc.loc[\"True\"] = pd.Series({'Rank': rank_condition(sigma_1)[0], 'Condition': rank_condition(sigma_1)[1]})\n",
    "rc.loc[\"Empirical\"] = pd.Series({'Rank': rank_condition(s1)[0], 'Condition': rank_condition(s1)[1]})\n",
    "rc.loc[\"Shrinkage\"] = pd.Series({'Rank': rank_condition(s2)[0], 'Condition': rank_condition(s2)[1]})\n",
    "rc"
   ]
  },
  {
   "cell_type": "code",
   "execution_count": 13,
   "metadata": {},
   "outputs": [
    {
     "name": "stdout",
     "output_type": "stream",
     "text": [
      "[28.39762307 22.94320226 20.64824684 15.65095443  9.61549526  3.45054126\n",
      "  2.65622747  0.10815699  1.03217324  0.5215553 ]\n",
      "[ 6.53049289e+01+0.00000000e+00j  4.10334629e+01+0.00000000e+00j\n",
      "  1.68388399e+01+0.00000000e+00j  4.82920584e+00+0.00000000e+00j\n",
      "  8.56182484e-01+0.00000000e+00j  2.47580422e-15+7.29053277e-17j\n",
      "  2.47580422e-15-7.29053277e-17j  5.98736773e-16+0.00000000e+00j\n",
      " -3.01593326e-15+0.00000000e+00j -1.63101428e-15+0.00000000e+00j]\n"
     ]
    }
   ],
   "source": [
    "# 請查看共變異數矩陣 sigma, s1, s2 的特徵值e0, e1, e2（eigenvalues）整理成 data.frame，\n",
    "# 並將此data.frame畫出來, y軸命名為eigenvalues：\n",
    "from numpy import linalg as LA\n",
    "\n",
    "e0, v0 = LA.eig(sigma_1)\n",
    "e1, v1 = LA.eig(s1)\n",
    "e2, v2 = LA.eig(s2)\n",
    "\n",
    "print(e0)\n",
    "print(e1)"
   ]
  },
  {
   "cell_type": "code",
   "execution_count": 14,
   "metadata": {
    "scrolled": true
   },
   "outputs": [
    {
     "data": {
      "text/plain": [
       "array([28.39762307, 22.94320226, 20.64824684, 15.65095443,  9.61549526,\n",
       "        3.45054126,  2.65622747,  1.03217324,  0.5215553 ,  0.10815699])"
      ]
     },
     "execution_count": 14,
     "metadata": {},
     "output_type": "execute_result"
    }
   ],
   "source": [
    "ee0 = np.sort(e0)[::-1]\n",
    "ee0"
   ]
  },
  {
   "cell_type": "code",
   "execution_count": 15,
   "metadata": {},
   "outputs": [
    {
     "data": {
      "text/plain": [
       "array([ 6.53049289e+01,  4.10334629e+01,  1.68388399e+01,  4.82920584e+00,\n",
       "        8.56182484e-01,  2.47580422e-15,  2.47580422e-15,  5.98736773e-16,\n",
       "       -1.63101428e-15, -3.01593326e-15])"
      ]
     },
     "execution_count": 15,
     "metadata": {},
     "output_type": "execute_result"
    }
   ],
   "source": [
    "ee1 = np.sort(e1.real)[::-1]\n",
    "ee1"
   ]
  },
  {
   "cell_type": "code",
   "execution_count": 16,
   "metadata": {},
   "outputs": [
    {
     "data": {
      "text/plain": [
       "array([31.37342316, 24.59500869, 17.20508535, 10.89593687, 10.11125285,\n",
       "        8.7439759 ,  8.0964732 ,  7.24250287,  6.61114634,  5.83636346])"
      ]
     },
     "execution_count": 16,
     "metadata": {},
     "output_type": "execute_result"
    }
   ],
   "source": [
    "ee2 = np.sort(e2.real)[::-1]\n",
    "ee2"
   ]
  },
  {
   "cell_type": "code",
   "execution_count": 17,
   "metadata": {},
   "outputs": [
    {
     "data": {
      "image/png": "[encoded data removed]",
      "text/plain": [
       "<Figure size 432x288 with 1 Axes>"
      ]
     },
     "metadata": {
      "needs_background": "light"
     },
     "output_type": "display_data"
    }
   ],
   "source": [
    "fig, ax = plt.subplots()\n",
    "ax.plot(range(len(ee0)), ee0, 'black', label = 'True')\n",
    "ax.plot(range(len(ee1)), ee1, 'r--', label = 'Empirical')\n",
    "ax.plot(range(len(ee2)), ee2, 'g--', label = 'Shrinkage')\n",
    "\n",
    "ax.legend(loc = 'best')\n",
    "plt.show()"
   ]
  },
  {
   "cell_type": "code",
   "execution_count": null,
   "metadata": {},
   "outputs": [],
   "source": []
  }
 ],
 "metadata": {
  "kernelspec": {
   "display_name": "Python 3",
   "language": "python",
   "name": "python3"
  },
  "language_info": {
   "codemirror_mode": {
    "name": "ipython",
    "version": 3
   },
   "file_extension": ".py",
   "mimetype": "text/x-python",
   "name": "python",
   "nbconvert_exporter": "python",
   "pygments_lexer": "ipython3",
   "version": "3.6.6"
  }
 },
 "nbformat": 4,
 "nbformat_minor": 2
}
